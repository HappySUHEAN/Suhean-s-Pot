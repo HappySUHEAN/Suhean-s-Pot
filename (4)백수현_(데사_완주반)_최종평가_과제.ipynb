{
  "nbformat": 4,
  "nbformat_minor": 0,
  "metadata": {
    "colab": {
      "name": "(4)백수현 - (데사 완주반) 최종평가_과제.ipynb",
      "provenance": [],
      "collapsed_sections": [],
      "include_colab_link": true
    },
    "kernelspec": {
      "name": "python3",
      "display_name": "Python 3"
    }
  },
  "cells": [
    {
      "cell_type": "markdown",
      "metadata": {
        "id": "view-in-github",
        "colab_type": "text"
      },
      "source": [
        "<a href=\"https://colab.research.google.com/github/HappySUHEAN/Suhean-s-Pot/blob/main/(4)%EB%B0%B1%EC%88%98%ED%98%84_(%EB%8D%B0%EC%82%AC_%EC%99%84%EC%A3%BC%EB%B0%98)_%EC%B5%9C%EC%A2%85%ED%8F%89%EA%B0%80_%EA%B3%BC%EC%A0%9C.ipynb\" target=\"_parent\"><img src=\"https://colab.research.google.com/assets/colab-badge.svg\" alt=\"Open In Colab\"/></a>"
      ]
    },
    {
      "cell_type": "markdown",
      "metadata": {
        "id": "wFyHeKq6WNBm"
      },
      "source": [
        "# [최종평가주차 코딩 실습](딥러닝 01. 신경망 기초 이론_케라스를 사용한 신경망 구현_20200206_03) keras를 사용하여 fashion_mnist데이터를 분류하는 모델을 만드세요\n",
        "* keras로 fashion_mnist를 학습시키세요\n",
        "* 모델이 예측한 test set데이터 X_test[20]의 class를 출력하고, X_test0[20]이미지를 출력하여 정확히 예측했는지 판단하세요\n",
        "```\n",
        "class 구분\n",
        "0 : 티셔츠/탑\n",
        "1 : 바지\n",
        "2 : 풀오버(스웨터의 일종)\n",
        "3 : 드레스\n",
        "4 : 코트\n",
        "5 : 샌들\n",
        "6 : 셔츠\n",
        "7 : 스니커즈\n",
        "8 : 가방\n",
        "9 : 앵클 부츠\n",
        "```\n"
      ]
    },
    {
      "cell_type": "code",
      "metadata": {
        "id": "D24_IYiuXYZ_",
        "colab": {
          "base_uri": "https://localhost:8080/"
        },
        "outputId": "6c2bf414-6a0c-446e-ee4c-a467fe430607"
      },
      "source": [
        "# 이 코드를 먼저 실행하세요\n",
        "\n",
        "from tensorflow import keras\n",
        "\n",
        "fashion_mnist = keras.datasets.fashion_mnist\n",
        "(X_train0, y_train0), (X_test0, y_test0) = fashion_mnist.load_data()\n",
        "\n",
        "import matplotlib.pylab as plt"
      ],
      "execution_count": 1,
      "outputs": [
        {
          "output_type": "stream",
          "text": [
            "Downloading data from https://storage.googleapis.com/tensorflow/tf-keras-datasets/train-labels-idx1-ubyte.gz\n",
            "32768/29515 [=================================] - 0s 0us/step\n",
            "Downloading data from https://storage.googleapis.com/tensorflow/tf-keras-datasets/train-images-idx3-ubyte.gz\n",
            "26427392/26421880 [==============================] - 0s 0us/step\n",
            "Downloading data from https://storage.googleapis.com/tensorflow/tf-keras-datasets/t10k-labels-idx1-ubyte.gz\n",
            "8192/5148 [===============================================] - 0s 0us/step\n",
            "Downloading data from https://storage.googleapis.com/tensorflow/tf-keras-datasets/t10k-images-idx3-ubyte.gz\n",
            "4423680/4422102 [==============================] - 0s 0us/step\n"
          ],
          "name": "stdout"
        }
      ]
    },
    {
      "cell_type": "code",
      "metadata": {
        "id": "h9zd1eSpXYPZ",
        "colab": {
          "base_uri": "https://localhost:8080/"
        },
        "outputId": "dfaf83ba-d396-4e9c-a0b6-b8b54cc263d2"
      },
      "source": [
        "# 여기에 코드를 작성하세요\n",
        "\n",
        "print(X_train0.shape, X_train0.dtype)\n",
        "print(y_train0.shape, y_train0.dtype)\n",
        "print(X_test0.shape, X_test0.dtype)\n",
        "print(y_test0.shape, y_test0.dtype)\n",
        "\n",
        "X_train = X_train0.reshape(60000, 784).astype('float32') / 255.0\n",
        "X_test = X_test0.reshape(10000, 784).astype('float32') / 255.0\n",
        "print(X_train.shape, X_train.dtype)\n",
        "\n",
        "from tensorflow.keras.utils import to_categorical\n",
        "Y_train = to_categorical(y_train0, 10)\n",
        "Y_test = to_categorical(y_test0, 10)\n",
        "Y_train[:5]"
      ],
      "execution_count": 5,
      "outputs": [
        {
          "output_type": "stream",
          "text": [
            "(60000, 28, 28) uint8\n",
            "(60000,) uint8\n",
            "(10000, 28, 28) uint8\n",
            "(10000,) uint8\n",
            "(60000, 784) float32\n"
          ],
          "name": "stdout"
        },
        {
          "output_type": "execute_result",
          "data": {
            "text/plain": [
              "array([[0., 0., 0., 0., 0., 0., 0., 0., 0., 1.],\n",
              "       [1., 0., 0., 0., 0., 0., 0., 0., 0., 0.],\n",
              "       [1., 0., 0., 0., 0., 0., 0., 0., 0., 0.],\n",
              "       [0., 0., 0., 1., 0., 0., 0., 0., 0., 0.],\n",
              "       [1., 0., 0., 0., 0., 0., 0., 0., 0., 0.]], dtype=float32)"
            ]
          },
          "metadata": {
            "tags": []
          },
          "execution_count": 5
        }
      ]
    },
    {
      "cell_type": "code",
      "metadata": {
        "id": "vx37q_I17Jqm",
        "colab": {
          "base_uri": "https://localhost:8080/"
        },
        "outputId": "a646dad4-4141-4cf8-8111-96a7cc1e7eec"
      },
      "source": [
        "import tensorflow as tf\n",
        "from tensorflow.keras.models import Sequential\n",
        "from tensorflow.keras.layers import Dense\n",
        "from tensorflow.keras.optimizers import SGD\n",
        "\n",
        "tf.random.set_seed(0)\n",
        "\n",
        "model = Sequential()\n",
        "model.add(Dense(15, input_dim=784, activation=\"sigmoid\"))\n",
        "model.add(Dense(10, activation=\"sigmoid\"))\n",
        "model.compile(optimizer=SGD(learning_rate=0.2), loss='mean_squared_error', metrics=[\"accuracy\"])\n",
        "\n",
        "%time\n",
        "hist = model.fit(X_train, Y_train,\n",
        "                 epochs=50, batch_size=100,\n",
        "                 validation_data=(X_test, Y_test),\n",
        "                 verbose=2)"
      ],
      "execution_count": 13,
      "outputs": [
        {
          "output_type": "stream",
          "text": [
            "CPU times: user 3 µs, sys: 0 ns, total: 3 µs\n",
            "Wall time: 5.96 µs\n",
            "Epoch 1/50\n",
            "600/600 - 1s - loss: 0.0972 - accuracy: 0.2524 - val_loss: 0.0863 - val_accuracy: 0.3369\n",
            "Epoch 2/50\n",
            "600/600 - 1s - loss: 0.0836 - accuracy: 0.4127 - val_loss: 0.0809 - val_accuracy: 0.4887\n",
            "Epoch 3/50\n",
            "600/600 - 1s - loss: 0.0783 - accuracy: 0.5104 - val_loss: 0.0758 - val_accuracy: 0.5286\n",
            "Epoch 4/50\n",
            "600/600 - 1s - loss: 0.0734 - accuracy: 0.5469 - val_loss: 0.0711 - val_accuracy: 0.5846\n",
            "Epoch 5/50\n",
            "600/600 - 1s - loss: 0.0689 - accuracy: 0.5981 - val_loss: 0.0669 - val_accuracy: 0.6103\n",
            "Epoch 6/50\n",
            "600/600 - 1s - loss: 0.0648 - accuracy: 0.6225 - val_loss: 0.0631 - val_accuracy: 0.6233\n",
            "Epoch 7/50\n",
            "600/600 - 1s - loss: 0.0611 - accuracy: 0.6388 - val_loss: 0.0597 - val_accuracy: 0.6421\n",
            "Epoch 8/50\n",
            "600/600 - 1s - loss: 0.0579 - accuracy: 0.6561 - val_loss: 0.0567 - val_accuracy: 0.6619\n",
            "Epoch 9/50\n",
            "600/600 - 1s - loss: 0.0551 - accuracy: 0.6720 - val_loss: 0.0541 - val_accuracy: 0.6733\n",
            "Epoch 10/50\n",
            "600/600 - 1s - loss: 0.0526 - accuracy: 0.6853 - val_loss: 0.0517 - val_accuracy: 0.6891\n",
            "Epoch 11/50\n",
            "600/600 - 1s - loss: 0.0503 - accuracy: 0.6984 - val_loss: 0.0496 - val_accuracy: 0.7018\n",
            "Epoch 12/50\n",
            "600/600 - 1s - loss: 0.0483 - accuracy: 0.7092 - val_loss: 0.0478 - val_accuracy: 0.7073\n",
            "Epoch 13/50\n",
            "600/600 - 1s - loss: 0.0465 - accuracy: 0.7157 - val_loss: 0.0462 - val_accuracy: 0.7145\n",
            "Epoch 14/50\n",
            "600/600 - 1s - loss: 0.0450 - accuracy: 0.7230 - val_loss: 0.0447 - val_accuracy: 0.7180\n",
            "Epoch 15/50\n",
            "600/600 - 1s - loss: 0.0436 - accuracy: 0.7304 - val_loss: 0.0435 - val_accuracy: 0.7223\n",
            "Epoch 16/50\n",
            "600/600 - 1s - loss: 0.0424 - accuracy: 0.7362 - val_loss: 0.0424 - val_accuracy: 0.7297\n",
            "Epoch 17/50\n",
            "600/600 - 1s - loss: 0.0413 - accuracy: 0.7419 - val_loss: 0.0414 - val_accuracy: 0.7377\n",
            "Epoch 18/50\n",
            "600/600 - 1s - loss: 0.0404 - accuracy: 0.7474 - val_loss: 0.0405 - val_accuracy: 0.7409\n",
            "Epoch 19/50\n",
            "600/600 - 1s - loss: 0.0395 - accuracy: 0.7525 - val_loss: 0.0396 - val_accuracy: 0.7470\n",
            "Epoch 20/50\n",
            "600/600 - 1s - loss: 0.0386 - accuracy: 0.7575 - val_loss: 0.0389 - val_accuracy: 0.7539\n",
            "Epoch 21/50\n",
            "600/600 - 1s - loss: 0.0379 - accuracy: 0.7625 - val_loss: 0.0382 - val_accuracy: 0.7567\n",
            "Epoch 22/50\n",
            "600/600 - 1s - loss: 0.0372 - accuracy: 0.7667 - val_loss: 0.0375 - val_accuracy: 0.7607\n",
            "Epoch 23/50\n",
            "600/600 - 1s - loss: 0.0365 - accuracy: 0.7717 - val_loss: 0.0369 - val_accuracy: 0.7658\n",
            "Epoch 24/50\n",
            "600/600 - 1s - loss: 0.0359 - accuracy: 0.7765 - val_loss: 0.0363 - val_accuracy: 0.7684\n",
            "Epoch 25/50\n",
            "600/600 - 1s - loss: 0.0353 - accuracy: 0.7808 - val_loss: 0.0358 - val_accuracy: 0.7712\n",
            "Epoch 26/50\n",
            "600/600 - 1s - loss: 0.0347 - accuracy: 0.7843 - val_loss: 0.0353 - val_accuracy: 0.7752\n",
            "Epoch 27/50\n",
            "600/600 - 1s - loss: 0.0342 - accuracy: 0.7887 - val_loss: 0.0348 - val_accuracy: 0.7772\n",
            "Epoch 28/50\n",
            "600/600 - 1s - loss: 0.0337 - accuracy: 0.7925 - val_loss: 0.0343 - val_accuracy: 0.7804\n",
            "Epoch 29/50\n",
            "600/600 - 1s - loss: 0.0332 - accuracy: 0.7957 - val_loss: 0.0339 - val_accuracy: 0.7841\n",
            "Epoch 30/50\n",
            "600/600 - 1s - loss: 0.0328 - accuracy: 0.7981 - val_loss: 0.0335 - val_accuracy: 0.7858\n",
            "Epoch 31/50\n",
            "600/600 - 1s - loss: 0.0324 - accuracy: 0.8007 - val_loss: 0.0331 - val_accuracy: 0.7889\n",
            "Epoch 32/50\n",
            "600/600 - 1s - loss: 0.0319 - accuracy: 0.8039 - val_loss: 0.0327 - val_accuracy: 0.7924\n",
            "Epoch 33/50\n",
            "600/600 - 1s - loss: 0.0316 - accuracy: 0.8057 - val_loss: 0.0323 - val_accuracy: 0.7938\n",
            "Epoch 34/50\n",
            "600/600 - 1s - loss: 0.0312 - accuracy: 0.8072 - val_loss: 0.0320 - val_accuracy: 0.7979\n",
            "Epoch 35/50\n",
            "600/600 - 1s - loss: 0.0308 - accuracy: 0.8096 - val_loss: 0.0316 - val_accuracy: 0.8000\n",
            "Epoch 36/50\n",
            "600/600 - 1s - loss: 0.0305 - accuracy: 0.8112 - val_loss: 0.0313 - val_accuracy: 0.8017\n",
            "Epoch 37/50\n",
            "600/600 - 1s - loss: 0.0302 - accuracy: 0.8130 - val_loss: 0.0310 - val_accuracy: 0.8036\n",
            "Epoch 38/50\n",
            "600/600 - 1s - loss: 0.0299 - accuracy: 0.8150 - val_loss: 0.0307 - val_accuracy: 0.8046\n",
            "Epoch 39/50\n",
            "600/600 - 1s - loss: 0.0296 - accuracy: 0.8162 - val_loss: 0.0305 - val_accuracy: 0.8063\n",
            "Epoch 40/50\n",
            "600/600 - 1s - loss: 0.0293 - accuracy: 0.8180 - val_loss: 0.0302 - val_accuracy: 0.8091\n",
            "Epoch 41/50\n",
            "600/600 - 1s - loss: 0.0290 - accuracy: 0.8196 - val_loss: 0.0300 - val_accuracy: 0.8101\n",
            "Epoch 42/50\n",
            "600/600 - 1s - loss: 0.0288 - accuracy: 0.8209 - val_loss: 0.0297 - val_accuracy: 0.8109\n",
            "Epoch 43/50\n",
            "600/600 - 1s - loss: 0.0286 - accuracy: 0.8220 - val_loss: 0.0295 - val_accuracy: 0.8118\n",
            "Epoch 44/50\n",
            "600/600 - 1s - loss: 0.0283 - accuracy: 0.8236 - val_loss: 0.0293 - val_accuracy: 0.8139\n",
            "Epoch 45/50\n",
            "600/600 - 1s - loss: 0.0281 - accuracy: 0.8246 - val_loss: 0.0291 - val_accuracy: 0.8149\n",
            "Epoch 46/50\n",
            "600/600 - 1s - loss: 0.0279 - accuracy: 0.8260 - val_loss: 0.0289 - val_accuracy: 0.8137\n",
            "Epoch 47/50\n",
            "600/600 - 1s - loss: 0.0277 - accuracy: 0.8267 - val_loss: 0.0288 - val_accuracy: 0.8155\n",
            "Epoch 48/50\n",
            "600/600 - 1s - loss: 0.0275 - accuracy: 0.8276 - val_loss: 0.0286 - val_accuracy: 0.8171\n",
            "Epoch 49/50\n",
            "600/600 - 1s - loss: 0.0274 - accuracy: 0.8287 - val_loss: 0.0284 - val_accuracy: 0.8160\n",
            "Epoch 50/50\n",
            "600/600 - 1s - loss: 0.0272 - accuracy: 0.8295 - val_loss: 0.0283 - val_accuracy: 0.8180\n"
          ],
          "name": "stdout"
        }
      ]
    },
    {
      "cell_type": "code",
      "metadata": {
        "colab": {
          "base_uri": "https://localhost:8080/"
        },
        "id": "XgNhF-hoHehE",
        "outputId": "8b2cc8de-d414-4bd9-d4a0-21fd90333483"
      },
      "source": [
        "import numpy as np\n",
        "\n",
        "model.predict(X_test[[20],:])"
      ],
      "execution_count": 49,
      "outputs": [
        {
          "output_type": "execute_result",
          "data": {
            "text/plain": [
              "array([[0.1868656 , 0.00601655, 0.21198761, 0.0073314 , 0.02309734,\n",
              "        0.00617048, 0.15986007, 0.00570244, 0.01578408, 0.00352684]],\n",
              "      dtype=float32)"
            ]
          },
          "metadata": {
            "tags": []
          },
          "execution_count": 49
        }
      ]
    },
    {
      "cell_type": "code",
      "metadata": {
        "colab": {
          "base_uri": "https://localhost:8080/"
        },
        "id": "SFGBnNXeJTon",
        "outputId": "37320033-f281-46b7-952a-5a585d5f8a97"
      },
      "source": [
        "# 결과 출력 코드\n",
        "# model.predict_classes(X_test[[20],:],verbose=0)\n",
        "\n",
        "\n",
        "\n",
        "np.argmax(model.predict(X_test[[20], :],verbose=0), axis=-1)\n",
        "\n"
      ],
      "execution_count": 50,
      "outputs": [
        {
          "output_type": "execute_result",
          "data": {
            "text/plain": [
              "array([2])"
            ]
          },
          "metadata": {
            "tags": []
          },
          "execution_count": 50
        }
      ]
    },
    {
      "cell_type": "code",
      "metadata": {
        "id": "X-RhoGrY7PNI",
        "colab": {
          "base_uri": "https://localhost:8080/",
          "height": 85
        },
        "outputId": "1d65b45d-3af6-4c17-bba7-eb897e0975f6"
      },
      "source": [
        "plt.figure(figsize=(1,1))\n",
        "plt.imshow(X_test0[20],cmap=plt.cm.bone_r)\n",
        "plt.grid(False)\n",
        "plt.axis(\"off\")\n",
        "plt.show()"
      ],
      "execution_count": 51,
      "outputs": [
        {
          "output_type": "display_data",
          "data": {
            "image/png": "[encoded data removed]",
            "text/plain": [
              "<Figure size 72x72 with 1 Axes>"
            ]
          },
          "metadata": {
            "tags": [],
            "needs_background": "light"
          }
        }
      ]
    }
  ]
}