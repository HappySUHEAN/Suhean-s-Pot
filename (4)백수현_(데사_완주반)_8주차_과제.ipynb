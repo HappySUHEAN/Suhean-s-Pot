{
  "nbformat": 4,
  "nbformat_minor": 0,
  "metadata": {
    "colab": {
      "name": "(4)백수현 - (데사 완주반) 8주차 과제.ipynb",
      "provenance": [],
      "collapsed_sections": [],
      "include_colab_link": true
    },
    "kernelspec": {
      "name": "python3",
      "display_name": "Python 3"
    }
  },
  "cells": [
    {
      "cell_type": "markdown",
      "metadata": {
        "id": "view-in-github",
        "colab_type": "text"
      },
      "source": [
        "<a href=\"https://colab.research.google.com/github/HappySUHEAN/Suhean-s-Pot/blob/main/(4)%EB%B0%B1%EC%88%98%ED%98%84_(%EB%8D%B0%EC%82%AC_%EC%99%84%EC%A3%BC%EB%B0%98)_8%EC%A3%BC%EC%B0%A8_%EA%B3%BC%EC%A0%9C.ipynb\" target=\"_parent\"><img src=\"https://colab.research.google.com/assets/colab-badge.svg\" alt=\"Open In Colab\"/></a>"
      ]
    },
    {
      "cell_type": "markdown",
      "metadata": {
        "id": "LUF3x_UDmHWX"
      },
      "source": [
        "# [8주차 코딩 실습](04. 회귀분석_50. 평가 점수 및 교차검증)주어진 회귀분석 코드를 이용하여 10-fold 교차검증을 수행하세요\n",
        "\n",
        "\n",
        "* random_state = 1234\n",
        "\n",
        "\n",
        "```\n",
        "출력예시\n",
        "\n",
        "학습 R2 = 0.51896407, 검증 R2 = 0.48972922\n",
        "학습 R2 = 0.52045932, 검증 R2 = 0.47517117\n",
        "학습 R2 = 0.52336854, 검증 R2 = 0.43559908\n",
        "학습 R2 = 0.51634877, 검증 R2 = 0.52305505\n",
        "학습 R2 = 0.53237143, 검증 R2 = 0.32484909\n",
        "학습 R2 = 0.52867509, 검증 R2 = 0.40125284\n",
        "학습 R2 = 0.53375833, 검증 R2 = 0.33458558\n",
        "학습 R2 = 0.48962260, 검증 R2 = 0.71454059\n",
        "학습 R2 = 0.50750490, 검증 R2 = 0.62362619\n",
        "학습 R2 = 0.52037393, 검증 R2 = 0.48732705\n",
        "```\n",
        "\n",
        "\n",
        "\n"
      ]
    },
    {
      "cell_type": "code",
      "metadata": {
        "id": "bvzcrK0jmLl5",
        "colab": {
          "base_uri": "https://localhost:8080/"
        },
        "outputId": "522c49c4-d970-4e0c-9647-b3c4c600b478"
      },
      "source": [
        "# 이 코드를 먼저 실행하세요\n",
        "\n",
        "import numpy as np\n",
        "import pandas as pd\n",
        "import statsmodels.api as sm\n",
        "from sklearn.datasets import load_diabetes\n",
        "\n",
        "diabetes = load_diabetes()\n",
        "\n",
        "dfX = pd.DataFrame(diabetes.data, columns=diabetes.feature_names)\n",
        "dfy = pd.DataFrame(diabetes.target, columns=[\"target\"])\n",
        "df = pd.concat([dfX, dfy], axis=1)\n",
        "\n",
        "\n",
        "model1 = sm.OLS.from_formula(\"target ~ \" + \"+\".join(diabetes.feature_names), data=df)\n",
        "result1 = model1.fit()"
      ],
      "execution_count": 1,
      "outputs": [
        {
          "output_type": "stream",
          "text": [
            "/usr/local/lib/python3.7/dist-packages/statsmodels/tools/_testing.py:19: FutureWarning: pandas.util.testing is deprecated. Use the functions in the public API at pandas.testing instead.\n",
            "  import pandas.util.testing as tm\n"
          ],
          "name": "stderr"
        }
      ]
    },
    {
      "cell_type": "code",
      "metadata": {
        "id": "WcOnYsnBmMg1",
        "colab": {
          "base_uri": "https://localhost:8080/"
        },
        "outputId": "53bbfd29-a2c5-4d40-eb00-0c1ee5d1f5f9"
      },
      "source": [
        "# 여기에 코드를 작성하세요\n",
        "from sklearn.model_selection import KFold\n",
        "\n",
        "scores = np.zeros(10)\n",
        "cv = KFold(10, shuffle=True, random_state=1234)\n",
        "for i, (idx_train, idx_test) in enumerate(cv.split(df)):\n",
        "  df_train = df.iloc[idx_train]\n",
        "  df_test = df.iloc[idx_test]\n",
        "\n",
        "  pred = result1.predict(df_test)\n",
        "  rss = ((df_test.target - pred) ** 2).sum()\n",
        "  tss = ((df_test.target - df_test.target.mean())**2).sum()\n",
        "  rsquared = 1 - rss / tss\n",
        "\n",
        "  scores[i] = rsquared\n",
        "  print(\"학습 R2 = {:.8f}, 검증 R2 = {:.8f}\".format(result1.rsquared, rsquared))"
      ],
      "execution_count": 8,
      "outputs": [
        {
          "output_type": "stream",
          "text": [
            "학습 R2 = 0.51774943, 검증 R2 = 0.51639644\n",
            "학습 R2 = 0.51774943, 검증 R2 = 0.48897021\n",
            "학습 R2 = 0.51774943, 검증 R2 = 0.47342625\n",
            "학습 R2 = 0.51774943, 검증 R2 = 0.53723292\n",
            "학습 R2 = 0.51774943, 검증 R2 = 0.40571437\n",
            "학습 R2 = 0.51774943, 검증 R2 = 0.43497213\n",
            "학습 R2 = 0.51774943, 검증 R2 = 0.39833130\n",
            "학습 R2 = 0.51774943, 검증 R2 = 0.72259824\n",
            "학습 R2 = 0.51774943, 검증 R2 = 0.62612480\n",
            "학습 R2 = 0.51774943, 검증 R2 = 0.50347496\n"
          ],
          "name": "stdout"
        }
      ]
    }
  ]
}