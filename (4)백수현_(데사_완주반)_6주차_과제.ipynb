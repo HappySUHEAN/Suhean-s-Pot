{
  "nbformat": 4,
  "nbformat_minor": 0,
  "metadata": {
    "colab": {
      "name": "(4)백수현 - (데사 완주반) 6주차_과제.ipynb",
      "provenance": [],
      "collapsed_sections": [],
      "include_colab_link": true
    },
    "kernelspec": {
      "name": "python3",
      "display_name": "Python 3"
    }
  },
  "cells": [
    {
      "cell_type": "markdown",
      "metadata": {
        "id": "view-in-github",
        "colab_type": "text"
      },
      "source": [
        "<a href=\"https://colab.research.google.com/github/HappySUHEAN/Suhean-s-Pot/blob/main/(4)%EB%B0%B1%EC%88%98%ED%98%84_(%EB%8D%B0%EC%82%AC_%EC%99%84%EC%A3%BC%EB%B0%98)_6%EC%A3%BC%EC%B0%A8_%EA%B3%BC%EC%A0%9C.ipynb\" target=\"_parent\"><img src=\"https://colab.research.google.com/assets/colab-badge.svg\" alt=\"Open In Colab\"/></a>"
      ]
    },
    {
      "cell_type": "markdown",
      "metadata": {
        "id": "2fAbH-iwuH_P"
      },
      "source": [
        "# [6주차 코딩 실습](04. MySQL_45. 테이블 객체 생성을 위한 클래스 작성 및 저장)강의자료를 참고하여 아래 조건에 맞게 컬럼데이터를 작성하고, 테이블 객체 생성을 위한 클래스를 생성해보세요.(20점)\n",
        "\n",
        "* 클래스명 : EPL, 테이블 이름 : EPL1\n",
        "\n",
        "* index : column(Integer, primary_key = True)\n",
        "\n",
        "* name : column(string(20))\n",
        "\n",
        "* gf = column(Integer)\n",
        "\n",
        "* ga = column(Integer)\n",
        "\n",
        "\n",
        "\n"
      ]
    },
    {
      "cell_type": "code",
      "metadata": {
        "id": "GsXgubD8kR0k"
      },
      "source": [
        "from sqlalchemy import *\n",
        "from sqlalchemy.ext.declarative import declarative_base\n",
        "from sqlalchemy.orm import sessionmaker"
      ],
      "execution_count": 3,
      "outputs": []
    },
    {
      "cell_type": "code",
      "metadata": {
        "id": "uw4-QZGLmE45"
      },
      "source": [
        "# 여기에 코드를 작성하세요\n",
        "Base = declarative_base()\n",
        "\n",
        "class EPL(Base):\n",
        "\n",
        "  __tablename__ = \"EPL1\"\n",
        "\n",
        "  EPL1_index = Column(Integer, primary_key = True)\n",
        "  name : Column(String(20))\n",
        "  gf = Column(Integer)\n",
        "  ga = Column(Integer)\n",
        "\n",
        "  def __init__(self, index, name, gf, ga):\n",
        "    self.index = index\n",
        "    self.name = name\n",
        "    self.gf = gf\n",
        "    self.ga = ga\n",
        "\n",
        "    def __repr__(self):\n",
        "      return \"<EPL {}, {}, {}>\".format(\n",
        "          self.name, self.gf, self.ga)"
      ],
      "execution_count": 6,
      "outputs": []
    }
  ]
}