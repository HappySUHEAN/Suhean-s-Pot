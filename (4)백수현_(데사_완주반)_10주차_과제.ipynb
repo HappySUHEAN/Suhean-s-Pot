{
  "nbformat": 4,
  "nbformat_minor": 0,
  "metadata": {
    "colab": {
      "name": "(4)백수현 - (데사 완주반) 10주차 과제.ipynb",
      "provenance": [],
      "collapsed_sections": [],
      "include_colab_link": true
    },
    "kernelspec": {
      "name": "python3",
      "display_name": "Python 3"
    }
  },
  "cells": [
    {
      "cell_type": "markdown",
      "metadata": {
        "id": "view-in-github",
        "colab_type": "text"
      },
      "source": [
        "<a href=\"https://colab.research.google.com/github/HappySUHEAN/Suhean-s-Pot/blob/main/(4)%EB%B0%B1%EC%88%98%ED%98%84_(%EB%8D%B0%EC%82%AC_%EC%99%84%EC%A3%BC%EB%B0%98)_10%EC%A3%BC%EC%B0%A8_%EA%B3%BC%EC%A0%9C.ipynb\" target=\"_parent\"><img src=\"https://colab.research.google.com/assets/colab-badge.svg\" alt=\"Open In Colab\"/></a>"
      ]
    },
    {
      "cell_type": "markdown",
      "metadata": {
        "id": "wATui4cCBOF7"
      },
      "source": [
        "### 로지스틱 분석 활용하기\n",
        "- 요구사항1, 데이터 red과 white에 color 칼럼을 만들고 1과 0을 저장해주세요.\n",
        "- 요구사항2. 모든 변수를 활용하여 color를 예측하는 로지스틱회귀 모델을 만들고 결과를 출력해 주세요.\n",
        "(statsmodels 사용)\n",
        "- 요구사항3. 유의확률 0.05로 변수를 선택하여 model2를 만들고 결과를 출력해 주세요"
      ]
    },
    {
      "cell_type": "code",
      "metadata": {
        "id": "q_nf7-yWNiY5",
        "colab": {
          "base_uri": "https://localhost:8080/"
        },
        "outputId": "64585b6c-79d7-43bc-9490-d4ce7a552a1c"
      },
      "source": [
        "## 고치지 마세요\n",
        "\n",
        "import statsmodels.api as sm\n",
        "import pandas as pd\n",
        "\n",
        "red_url = 'https://raw.githubusercontent.com/PinkWink/ML_tutorial/master/dataset/winequality-red.csv'\n",
        "white_url = 'https://raw.githubusercontent.com/PinkWink/ML_tutorial/master/dataset/winequality-white.csv'\n",
        "\n",
        "red = pd.read_csv(red_url, sep = ';')\n",
        "\n",
        "white = pd.read_csv(white_url, sep = ';')\n",
        "\n"
      ],
      "execution_count": 1,
      "outputs": [
        {
          "output_type": "stream",
          "text": [
            "/usr/local/lib/python3.7/dist-packages/statsmodels/tools/_testing.py:19: FutureWarning: pandas.util.testing is deprecated. Use the functions in the public API at pandas.testing instead.\n",
            "  import pandas.util.testing as tm\n"
          ],
          "name": "stderr"
        }
      ]
    },
    {
      "cell_type": "code",
      "metadata": {
        "colab": {
          "base_uri": "https://localhost:8080/",
          "height": 204
        },
        "id": "CSWoAjLyTpoD",
        "outputId": "ee858457-61a1-454c-b659-f86070306365"
      },
      "source": [
        "#요구사항1\n",
        "red['color'] = 1\n",
        "white['color'] = 0\n",
        "\n",
        "data = pd.concat([red, white])\n",
        "data.columns = ['fixed_acidty', 'volatile_acidity','critic_acid', 'residual_sugar', 'chlorides', 'free_sulfur_dioxide', 'total_surfur_dioxide', 'density', 'pH', 'sulphates', 'alcohol', 'quality', 'color']\n",
        "data.tail()\n"
      ],
      "execution_count": 2,
      "outputs": [
        {
          "output_type": "execute_result",
          "data": {
            "text/html": [
              "<div>\n",
              "<style scoped>\n",
              "    .dataframe tbody tr th:only-of-type {\n",
              "        vertical-align: middle;\n",
              "    }\n",
              "\n",
              "    .dataframe tbody tr th {\n",
              "        vertical-align: top;\n",
              "    }\n",
              "\n",
              "    .dataframe thead th {\n",
              "        text-align: right;\n",
              "    }\n",
              "</style>\n",
              "<table border=\"1\" class=\"dataframe\">\n",
              "  <thead>\n",
              "    <tr style=\"text-align: right;\">\n",
              "      <th></th>\n",
              "      <th>fixed_acidty</th>\n",
              "      <th>volatile_acidity</th>\n",
              "      <th>critic_acid</th>\n",
              "      <th>residual_sugar</th>\n",
              "      <th>chlorides</th>\n",
              "      <th>free_sulfur_dioxide</th>\n",
              "      <th>total_surfur_dioxide</th>\n",
              "      <th>density</th>\n",
              "      <th>pH</th>\n",
              "      <th>sulphates</th>\n",
              "      <th>alcohol</th>\n",
              "      <th>quality</th>\n",
              "      <th>color</th>\n",
              "    </tr>\n",
              "  </thead>\n",
              "  <tbody>\n",
              "    <tr>\n",
              "      <th>4893</th>\n",
              "      <td>6.2</td>\n",
              "      <td>0.21</td>\n",
              "      <td>0.29</td>\n",
              "      <td>1.6</td>\n",
              "      <td>0.039</td>\n",
              "      <td>24.0</td>\n",
              "      <td>92.0</td>\n",
              "      <td>0.99114</td>\n",
              "      <td>3.27</td>\n",
              "      <td>0.50</td>\n",
              "      <td>11.2</td>\n",
              "      <td>6</td>\n",
              "      <td>0</td>\n",
              "    </tr>\n",
              "    <tr>\n",
              "      <th>4894</th>\n",
              "      <td>6.6</td>\n",
              "      <td>0.32</td>\n",
              "      <td>0.36</td>\n",
              "      <td>8.0</td>\n",
              "      <td>0.047</td>\n",
              "      <td>57.0</td>\n",
              "      <td>168.0</td>\n",
              "      <td>0.99490</td>\n",
              "      <td>3.15</td>\n",
              "      <td>0.46</td>\n",
              "      <td>9.6</td>\n",
              "      <td>5</td>\n",
              "      <td>0</td>\n",
              "    </tr>\n",
              "    <tr>\n",
              "      <th>4895</th>\n",
              "      <td>6.5</td>\n",
              "      <td>0.24</td>\n",
              "      <td>0.19</td>\n",
              "      <td>1.2</td>\n",
              "      <td>0.041</td>\n",
              "      <td>30.0</td>\n",
              "      <td>111.0</td>\n",
              "      <td>0.99254</td>\n",
              "      <td>2.99</td>\n",
              "      <td>0.46</td>\n",
              "      <td>9.4</td>\n",
              "      <td>6</td>\n",
              "      <td>0</td>\n",
              "    </tr>\n",
              "    <tr>\n",
              "      <th>4896</th>\n",
              "      <td>5.5</td>\n",
              "      <td>0.29</td>\n",
              "      <td>0.30</td>\n",
              "      <td>1.1</td>\n",
              "      <td>0.022</td>\n",
              "      <td>20.0</td>\n",
              "      <td>110.0</td>\n",
              "      <td>0.98869</td>\n",
              "      <td>3.34</td>\n",
              "      <td>0.38</td>\n",
              "      <td>12.8</td>\n",
              "      <td>7</td>\n",
              "      <td>0</td>\n",
              "    </tr>\n",
              "    <tr>\n",
              "      <th>4897</th>\n",
              "      <td>6.0</td>\n",
              "      <td>0.21</td>\n",
              "      <td>0.38</td>\n",
              "      <td>0.8</td>\n",
              "      <td>0.020</td>\n",
              "      <td>22.0</td>\n",
              "      <td>98.0</td>\n",
              "      <td>0.98941</td>\n",
              "      <td>3.26</td>\n",
              "      <td>0.32</td>\n",
              "      <td>11.8</td>\n",
              "      <td>6</td>\n",
              "      <td>0</td>\n",
              "    </tr>\n",
              "  </tbody>\n",
              "</table>\n",
              "</div>"
            ],
            "text/plain": [
              "      fixed_acidty  volatile_acidity  critic_acid  ...  alcohol  quality  color\n",
              "4893           6.2              0.21         0.29  ...     11.2        6      0\n",
              "4894           6.6              0.32         0.36  ...      9.6        5      0\n",
              "4895           6.5              0.24         0.19  ...      9.4        6      0\n",
              "4896           5.5              0.29         0.30  ...     12.8        7      0\n",
              "4897           6.0              0.21         0.38  ...     11.8        6      0\n",
              "\n",
              "[5 rows x 13 columns]"
            ]
          },
          "metadata": {
            "tags": []
          },
          "execution_count": 2
        }
      ]
    },
    {
      "cell_type": "code",
      "metadata": {
        "id": "fjBOIlhmZbzY"
      },
      "source": [
        ""
      ],
      "execution_count": null,
      "outputs": []
    },
    {
      "cell_type": "code",
      "metadata": {
        "colab": {
          "base_uri": "https://localhost:8080/"
        },
        "id": "V3oGjBjETpdq",
        "outputId": "5f4fee35-33e5-488a-881d-3cfeff691abd"
      },
      "source": [
        "model1 = sm.Logit.from_formula(\"color ~ fixed_acidty + volatile_acidity + critic_acid + residual_sugar + chlorides + free_sulfur_dioxide + total_surfur_dioxide + density + pH + sulphates + alcohol + quality\", data)\n",
        "result = model1.fit()\n",
        "print(result.summary())"
      ],
      "execution_count": 5,
      "outputs": [
        {
          "output_type": "stream",
          "text": [
            "Optimization terminated successfully.\n",
            "         Current function value: 0.032649\n",
            "         Iterations 15\n",
            "                           Logit Regression Results                           \n",
            "==============================================================================\n",
            "Dep. Variable:                  color   No. Observations:                 6497\n",
            "Model:                          Logit   Df Residuals:                     6484\n",
            "Method:                           MLE   Df Model:                           12\n",
            "Date:                Sun, 16 May 2021   Pseudo R-squ.:                  0.9415\n",
            "Time:                        09:03:43   Log-Likelihood:                -212.12\n",
            "converged:                       True   LL-Null:                       -3625.5\n",
            "Covariance Type:            nonrobust   LLR p-value:                     0.000\n",
            "========================================================================================\n",
            "                           coef    std err          z      P>|z|      [0.025      0.975]\n",
            "----------------------------------------------------------------------------------------\n",
            "Intercept            -1875.9575    186.804    -10.042      0.000   -2242.088   -1509.828\n",
            "fixed_acidty            -0.4005      0.233     -1.716      0.086      -0.858       0.057\n",
            "volatile_acidity         6.7220      1.061      6.337      0.000       4.643       8.801\n",
            "critic_acid             -2.6172      1.185     -2.209      0.027      -4.939      -0.295\n",
            "residual_sugar          -0.9562      0.101     -9.448      0.000      -1.155      -0.758\n",
            "chlorides               22.0115      3.985      5.524      0.000      14.202      29.821\n",
            "free_sulfur_dioxide      0.0608      0.015      4.176      0.000       0.032       0.089\n",
            "total_surfur_dioxide    -0.0523      0.005    -10.479      0.000      -0.062      -0.043\n",
            "density               1875.0427    190.443      9.846      0.000    1501.781    2248.304\n",
            "pH                      -1.9593      1.424     -1.376      0.169      -4.751       0.832\n",
            "sulphates                2.6927      1.249      2.156      0.031       0.245       5.141\n",
            "alcohol                  1.7921      0.280      6.412      0.000       1.244       2.340\n",
            "quality                  0.4339      0.204      2.126      0.034       0.034       0.834\n",
            "========================================================================================\n",
            "\n",
            "Possibly complete quasi-separation: A fraction 0.25 of observations can be\n",
            "perfectly predicted. This might indicate that there is complete\n",
            "quasi-separation. In this case some parameters will not be identified.\n"
          ],
          "name": "stdout"
        }
      ]
    },
    {
      "cell_type": "code",
      "metadata": {
        "id": "T-IxkK8BT-au",
        "colab": {
          "base_uri": "https://localhost:8080/"
        },
        "outputId": "e3562059-c681-45c8-e18d-9d71f496566c"
      },
      "source": [
        "model2 = sm.Logit.from_formula(\"color ~ volatile_acidity + critic_acid + residual_sugar + chlorides + free_sulfur_dioxide + total_surfur_dioxide + density + sulphates + alcohol + quality\", data)\n",
        "result = model2.fit()\n",
        "print(result.summary())"
      ],
      "execution_count": 6,
      "outputs": [
        {
          "output_type": "stream",
          "text": [
            "Optimization terminated successfully.\n",
            "         Current function value: 0.032879\n",
            "         Iterations 14\n",
            "                           Logit Regression Results                           \n",
            "==============================================================================\n",
            "Dep. Variable:                  color   No. Observations:                 6497\n",
            "Model:                          Logit   Df Residuals:                     6486\n",
            "Method:                           MLE   Df Model:                           10\n",
            "Date:                Sun, 16 May 2021   Pseudo R-squ.:                  0.9411\n",
            "Time:                        09:05:42   Log-Likelihood:                -213.62\n",
            "converged:                       True   LL-Null:                       -3625.5\n",
            "Covariance Type:            nonrobust   LLR p-value:                     0.000\n",
            "========================================================================================\n",
            "                           coef    std err          z      P>|z|      [0.025      0.975]\n",
            "----------------------------------------------------------------------------------------\n",
            "Intercept            -1645.4219    121.152    -13.582      0.000   -1882.875   -1407.969\n",
            "volatile_acidity         7.1024      1.030      6.896      0.000       5.084       9.121\n",
            "critic_acid             -2.8314      1.090     -2.598      0.009      -4.968      -0.695\n",
            "residual_sugar          -0.8716      0.086    -10.103      0.000      -1.041      -0.703\n",
            "chlorides               24.3846      3.772      6.464      0.000      16.991      31.778\n",
            "free_sulfur_dioxide      0.0586      0.015      4.014      0.000       0.030       0.087\n",
            "total_surfur_dioxide    -0.0522      0.005    -10.466      0.000      -0.062      -0.042\n",
            "density               1635.7535    120.415     13.584      0.000    1399.745    1871.762\n",
            "sulphates                3.0563      1.193      2.562      0.010       0.718       5.395\n",
            "alcohol                  1.5602      0.229      6.804      0.000       1.111       2.010\n",
            "quality                  0.4107      0.200      2.055      0.040       0.019       0.802\n",
            "========================================================================================\n",
            "\n",
            "Possibly complete quasi-separation: A fraction 0.27 of observations can be\n",
            "perfectly predicted. This might indicate that there is complete\n",
            "quasi-separation. In this case some parameters will not be identified.\n"
          ],
          "name": "stdout"
        }
      ]
    }
  ]
}