{
  "nbformat": 4,
  "nbformat_minor": 0,
  "metadata": {
    "colab": {
      "name": "(4)백수현 - (데사 완주반) 2차 평가 과제.ipynb",
      "provenance": [],
      "collapsed_sections": [],
      "include_colab_link": true
    },
    "kernelspec": {
      "name": "python3",
      "display_name": "Python 3"
    }
  },
  "cells": [
    {
      "cell_type": "markdown",
      "metadata": {
        "id": "view-in-github",
        "colab_type": "text"
      },
      "source": [
        "<a href=\"https://colab.research.google.com/github/HappySUHEAN/Suhean-s-Pot/blob/main/(4)%EB%B0%B1%EC%88%98%ED%98%84_(%EB%8D%B0%EC%82%AC_%EC%99%84%EC%A3%BC%EB%B0%98)_2%EC%B0%A8_%ED%8F%89%EA%B0%80_%EA%B3%BC%EC%A0%9C.ipynb\" target=\"_parent\"><img src=\"https://colab.research.google.com/assets/colab-badge.svg\" alt=\"Open In Colab\"/></a>"
      ]
    },
    {
      "cell_type": "markdown",
      "metadata": {
        "id": "wFyHeKq6WNBm"
      },
      "source": [
        "# [2차평가주차 코딩 실습]\n",
        "유방암 데이터를 예측하기위한 svm모델을 최적화 하세요.\n",
        "* 모델 최적화를 위해 GridSearchCV를 이용하세요\n",
        "* Hyper parameter의 범위는 (0.01, 0.1, 1.0, 10.0, 100.0)로 지정해주세요\n",
        "* 최적모형의 점수와 최적 Hyper parameter를 출력하세요\n",
        "\n"
      ]
    },
    {
      "cell_type": "code",
      "metadata": {
        "id": "D24_IYiuXYZ_"
      },
      "source": [
        "# 이 코드를 먼저 실행하세요\n",
        "\n",
        "from sklearn.datasets import load_breast_cancer\n",
        "from sklearn.model_selection import GridSearchCV\n",
        "from sklearn.pipeline import Pipeline\n",
        "from sklearn.preprocessing import StandardScaler\n",
        "from sklearn.svm import SVC"
      ],
      "execution_count": 4,
      "outputs": []
    },
    {
      "cell_type": "code",
      "metadata": {
        "id": "h9zd1eSpXYPZ",
        "colab": {
          "base_uri": "https://localhost:8080/"
        },
        "outputId": "ea59b7be-d6f3-46dd-dbeb-faac93d46d05"
      },
      "source": [
        "# 여기에 코드를 작성하세요\n",
        "\n",
        "breast_cancer = load_breast_cancer()\n",
        "X, y = breast_cancer.data, breast_cancer.target\n",
        "\n",
        "pipe_svc = Pipeline([('scl', StandardScaler()), ('clf', SVC(random_state=1))])\n",
        "\n",
        "param_range = [0.01, 0.1, 1.0, 10.0, 100.0]\n",
        "param_grid = [\n",
        "    {'clf__C': param_range, 'clf__kernel': ['linear']},\n",
        "    {'clf__C': param_range, 'clf__gamma': param_range, 'clf__kernel': ['rbf']}]\n",
        "\n",
        "gs = GridSearchCV(estimator=pipe_svc, param_grid=param_grid,\n",
        "                  scoring='accuracy', cv=10, n_jobs=1)\n",
        "%time gs = gs.fit(X, y)"
      ],
      "execution_count": 9,
      "outputs": [
        {
          "output_type": "stream",
          "text": [
            "CPU times: user 5.36 s, sys: 2.48 ms, total: 5.36 s\n",
            "Wall time: 5.37 s\n"
          ],
          "name": "stdout"
        }
      ]
    },
    {
      "cell_type": "code",
      "metadata": {
        "id": "HbHEU0WbUAAG",
        "colab": {
          "base_uri": "https://localhost:8080/"
        },
        "outputId": "9d05430a-d306-4451-8ab0-869b06ede1ed"
      },
      "source": [
        "print(gs.best_score_)\n",
        "print(gs.best_params_)"
      ],
      "execution_count": 10,
      "outputs": [
        {
          "output_type": "stream",
          "text": [
            "0.9788847117794486\n",
            "{'clf__C': 0.1, 'clf__kernel': 'linear'}\n"
          ],
          "name": "stdout"
        }
      ]
    }
  ]
}